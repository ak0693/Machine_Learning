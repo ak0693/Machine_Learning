{
 "cells": [
  {
   "cell_type": "markdown",
   "id": "70c48b5a-01b2-4327-82d2-8b29beefe967",
   "metadata": {},
   "source": [
    "# Support Vector Machines"
   ]
  },
  {
   "cell_type": "markdown",
   "id": "3736fb1c-5f14-4354-aae8-1f3f65d5c0f7",
   "metadata": {},
   "source": [
    "### Importing necessary libraries"
   ]
  },
  {
   "cell_type": "code",
   "execution_count": 1,
   "id": "c13c355f-2e1f-4b90-aa9f-b3591265e899",
   "metadata": {},
   "outputs": [],
   "source": [
    "import seaborn as sns\n",
    "import pandas as pd\n",
    "import numpy as np\n",
    "\n",
    "%matplotlib inline\n",
    "import matplotlib as mpl\n",
    "import matplotlib.pyplot as plt"
   ]
  },
  {
   "cell_type": "markdown",
   "id": "7f6beb2e-5800-4ef5-9146-260644f872e5",
   "metadata": {},
   "source": [
    "### Linear SVM Classification"
   ]
  },
  {
   "cell_type": "markdown",
   "id": "bb0d6201-7283-4856-a4c3-07ee60195c91",
   "metadata": {},
   "source": [
    "#### Classifing 2 classes of the iris dataset using SVM classification"
   ]
  },
  {
   "cell_type": "code",
   "execution_count": 2,
   "id": "d5088d41-e395-4bf8-a19e-56d3b6a04151",
   "metadata": {},
   "outputs": [
    {
     "data": {
      "text/plain": [
       "SVC(C=inf, kernel='linear')"
      ]
     },
     "execution_count": 2,
     "metadata": {},
     "output_type": "execute_result"
    }
   ],
   "source": [
    "from sklearn.svm import SVC\n",
    "from sklearn import datasets\n",
    "\n",
    "iris = datasets.load_iris()\n",
    "X = iris[\"data\"][:, (2, 3)]  # petal length, petal width\n",
    "y = iris[\"target\"]\n",
    "\n",
    "setosa_or_versicolor = (y == 0) | (y == 1)\n",
    "X = X[setosa_or_versicolor]\n",
    "y = y[setosa_or_versicolor]\n",
    "\n",
    "# SVM Classifier model\n",
    "svm_clf = SVC(kernel=\"linear\", C=float(\"inf\"))\n",
    "svm_clf.fit(X, y)"
   ]
  },
  {
   "cell_type": "code",
   "execution_count": 3,
   "id": "71f2317a-8209-44ff-97bc-69c6aa5befda",
   "metadata": {},
   "outputs": [
    {
     "data": {
      "text/plain": [
       "array([1])"
      ]
     },
     "execution_count": 3,
     "metadata": {},
     "output_type": "execute_result"
    }
   ],
   "source": [
    "svm_clf.predict([[5, 2]])"
   ]
  },
  {
   "cell_type": "code",
   "execution_count": 4,
   "id": "64ecfb83-b231-4ad4-b5f5-13b0e3143832",
   "metadata": {},
   "outputs": [
    {
     "data": {
      "text/plain": [
       "'versicolor'"
      ]
     },
     "execution_count": 4,
     "metadata": {},
     "output_type": "execute_result"
    }
   ],
   "source": [
    "iris.target_names[1]"
   ]
  },
  {
   "cell_type": "code",
   "execution_count": 5,
   "id": "f6852bd7-2cd2-42ec-a0df-380f1146bdfc",
   "metadata": {},
   "outputs": [
    {
     "data": {
      "text/plain": [
       "[<matplotlib.lines.Line2D at 0x272eb4d57c0>]"
      ]
     },
     "execution_count": 5,
     "metadata": {},
     "output_type": "execute_result"
    },
    {
     "data": {
      "image/png": "[encoded data removed]",
      "text/plain": [
       "<Figure size 432x288 with 1 Axes>"
      ]
     },
     "metadata": {
      "needs_background": "light"
     },
     "output_type": "display_data"
    }
   ],
   "source": [
    "plt.plot(X[:, 0][y==1], X[:, 1][y==1], \"bs\", label=\"Iris versicolor\")\n",
    "plt.plot(X[:, 0][y==0], X[:, 1][y==0], \"yo\", label=\"Iris setosa\")\n",
    "plt.xlabel(\"Petal length\", fontsize=14)\n",
    "plt.ylabel(\"Petal width\", fontsize=14)\n",
    "plt.legend(loc=\"upper left\", fontsize=14)\n",
    "plt.axis([0, 5.5, 0, 2])\n",
    "\n",
    "\n",
    "w = svm_clf.coef_[0]\n",
    "b = svm_clf.intercept_[0]\n",
    "\n",
    "    # At the decision boundary, w0*x0 + w1*x1 + b = 0\n",
    "    # => x1 = -w0/w1 * x0 - b/w1\n",
    "x0 = np.linspace(0, 5.5, 200)       ## generating x0 values between the axes limits of petal length\n",
    "decision_boundary = -w[0]/w[1] * x0 - b/w[1]\n",
    "plt.plot(x0, decision_boundary, \"k-\", linewidth=2)"
   ]
  },
  {
   "cell_type": "markdown",
   "id": "5112eee6-3b9f-485d-9562-324633b81025",
   "metadata": {},
   "source": [
    "### Soft Margin Classification\n",
    "\n",
    "#### Using the LinearSVM class to classify two classes of the iris dataset"
   ]
  },
  {
   "cell_type": "code",
   "execution_count": 6,
   "id": "51e7ea13-9129-4351-8a46-d5a46829e4ea",
   "metadata": {},
   "outputs": [],
   "source": [
    "from sklearn.pipeline import Pipeline"
   ]
  },
  {
   "cell_type": "code",
   "execution_count": 7,
   "id": "b48ee86f-fb1b-4331-9272-d6149d781eef",
   "metadata": {},
   "outputs": [],
   "source": [
    "from sklearn.preprocessing import StandardScaler\n",
    "from sklearn.svm import LinearSVC"
   ]
  },
  {
   "cell_type": "code",
   "execution_count": 8,
   "id": "8fb53551-839a-4090-ac3f-d82775bf2ba4",
   "metadata": {},
   "outputs": [],
   "source": [
    "X = iris[\"data\"][:, (2, 3)] ## petal length and width\n",
    "y = (iris[\"target\"] == 2).astype(np.float64)  ## Iris Virginica"
   ]
  },
  {
   "cell_type": "code",
   "execution_count": 9,
   "id": "3194bca0-e944-4585-8cbe-badf960d73fb",
   "metadata": {},
   "outputs": [],
   "source": [
    "svm_clf = Pipeline([\n",
    "        (\"scaler\", StandardScaler()),\n",
    "        (\"linear_svc\", LinearSVC(C=1, loss=\"hinge\")),\n",
    "        ])"
   ]
  },
  {
   "cell_type": "code",
   "execution_count": 10,
   "id": "d6f8bf67-b493-405d-abdd-d8275f7e7c84",
   "metadata": {},
   "outputs": [
    {
     "data": {
      "text/plain": [
       "Pipeline(steps=[('scaler', StandardScaler()),\n",
       "                ('linear_svc', LinearSVC(C=1, loss='hinge'))])"
      ]
     },
     "execution_count": 10,
     "metadata": {},
     "output_type": "execute_result"
    }
   ],
   "source": [
    "svm_clf.fit(X,y)"
   ]
  },
  {
   "cell_type": "code",
   "execution_count": 11,
   "id": "a23b4dd2-e764-43df-9e5d-ba3637e6312f",
   "metadata": {},
   "outputs": [
    {
     "data": {
      "text/plain": [
       "array([1.])"
      ]
     },
     "execution_count": 11,
     "metadata": {},
     "output_type": "execute_result"
    }
   ],
   "source": [
    "svm_clf.predict([[5, 2]])"
   ]
  },
  {
   "cell_type": "code",
   "execution_count": 12,
   "id": "3dda491f-87da-4a81-b5be-520a429927cd",
   "metadata": {},
   "outputs": [
    {
     "data": {
      "text/plain": [
       "array([0., 1.])"
      ]
     },
     "execution_count": 12,
     "metadata": {},
     "output_type": "execute_result"
    }
   ],
   "source": [
    "svm_clf.classes_"
   ]
  },
  {
   "cell_type": "markdown",
   "id": "d424621b-26fe-4e2d-b503-c913fd8062da",
   "metadata": {},
   "source": [
    "### Nonlinear SVM Classification\n",
    "\n",
    "#### Using polonomial features to make data linearly separable.\n",
    "#### Using moons dataset to study its implementation"
   ]
  },
  {
   "cell_type": "code",
   "execution_count": 13,
   "id": "3a2c2381-c24c-40ee-874e-a57a20f51ba9",
   "metadata": {},
   "outputs": [],
   "source": [
    "from sklearn.datasets import make_moons\n",
    "from sklearn.preprocessing import PolynomialFeatures"
   ]
  },
  {
   "cell_type": "code",
   "execution_count": 14,
   "id": "bfedcb1d-4aa1-4a3f-a535-5aacec60e3b3",
   "metadata": {},
   "outputs": [],
   "source": [
    "X, y = make_moons(n_samples=100, noise= 0.15) # spanning the dataset\n",
    "polynomial_svm_clf = Pipeline([\n",
    "                    (\"poly_features\", PolynomialFeatures(degree=3)),\n",
    "                    (\"scaler\", StandardScaler()),\n",
    "                    (\"svm_clf\", LinearSVC(C=10, loss=\"hinge\"))\n",
    "])"
   ]
  },
  {
   "cell_type": "code",
   "execution_count": 15,
   "id": "5f6cc8aa-5b48-4fb6-9d01-880eefd24408",
   "metadata": {},
   "outputs": [
    {
     "name": "stderr",
     "output_type": "stream",
     "text": [
      "F:\\Ana\\envs\\tf2\\lib\\site-packages\\sklearn\\svm\\_base.py:1206: ConvergenceWarning: Liblinear failed to converge, increase the number of iterations.\n",
      "  warnings.warn(\n"
     ]
    },
    {
     "data": {
      "text/plain": [
       "Pipeline(steps=[('poly_features', PolynomialFeatures(degree=3)),\n",
       "                ('scaler', StandardScaler()),\n",
       "                ('svm_clf', LinearSVC(C=10, loss='hinge'))])"
      ]
     },
     "execution_count": 15,
     "metadata": {},
     "output_type": "execute_result"
    }
   ],
   "source": [
    "polynomial_svm_clf.fit(X, y)"
   ]
  },
  {
   "cell_type": "markdown",
   "id": "1e4edb64-1e63-4338-af3e-876bbbb454d0",
   "metadata": {},
   "source": [
    "#### Implementing polynomial kernal"
   ]
  },
  {
   "cell_type": "code",
   "execution_count": 16,
   "id": "f0476358-8c34-426f-837b-9835b137ce78",
   "metadata": {},
   "outputs": [],
   "source": [
    "from sklearn.svm import SVC\n",
    "poly_kernal_svm_clf = Pipeline([\n",
    "                    (\"scaler\", StandardScaler()),\n",
    "                    (\"svm_clf\", SVC(kernel=\"poly\", degree=3, coef0=1, C=5))\n",
    "])"
   ]
  },
  {
   "cell_type": "code",
   "execution_count": 17,
   "id": "e961c1de-f9e4-415e-9529-77532396625d",
   "metadata": {},
   "outputs": [
    {
     "data": {
      "text/plain": [
       "Pipeline(steps=[('scaler', StandardScaler()),\n",
       "                ('svm_clf', SVC(C=5, coef0=1, kernel='poly'))])"
      ]
     },
     "execution_count": 17,
     "metadata": {},
     "output_type": "execute_result"
    }
   ],
   "source": [
    "poly_kernal_svm_clf.fit(X, y)"
   ]
  },
  {
   "cell_type": "markdown",
   "id": "140287ac-600e-42b1-8a22-fc8ab20e525f",
   "metadata": {},
   "source": [
    "#### Implementing Gaussian RBF kernal SVM classification"
   ]
  },
  {
   "cell_type": "code",
   "execution_count": 18,
   "id": "c69aaf68-a939-4397-9374-e99d649a0546",
   "metadata": {},
   "outputs": [],
   "source": [
    "rbf_kernal_svm_clf = Pipeline([\n",
    "        (\"scaler\", StandardScaler()),\n",
    "        (\"svm_clf\", SVC(kernel=\"rbf\", gamma=5, C=0.001))\n",
    "])"
   ]
  },
  {
   "cell_type": "code",
   "execution_count": 19,
   "id": "89e27dda-4508-4dbd-af44-f67f7cacc1fa",
   "metadata": {},
   "outputs": [
    {
     "data": {
      "text/plain": [
       "Pipeline(steps=[('scaler', StandardScaler()),\n",
       "                ('svm_clf', SVC(C=0.001, gamma=5))])"
      ]
     },
     "execution_count": 19,
     "metadata": {},
     "output_type": "execute_result"
    }
   ],
   "source": [
    "rbf_kernal_svm_clf.fit(X, y)"
   ]
  },
  {
   "cell_type": "markdown",
   "id": "5592aac0-f4c8-4925-9878-89dd546c216a",
   "metadata": {},
   "source": [
    "### SVM Regression."
   ]
  },
  {
   "cell_type": "markdown",
   "id": "549e427b-a3fd-4c9d-a4aa-dadb1e552a00",
   "metadata": {},
   "source": [
    "#### Implementing SVM Linear regression using sk-learn's LinearSVR class. Generating an example dataset for this task."
   ]
  },
  {
   "cell_type": "code",
   "execution_count": 20,
   "id": "b2b36259-d810-45ef-8221-11e459dcbdb1",
   "metadata": {},
   "outputs": [],
   "source": [
    "np.random.seed(42)\n",
    "m = 50\n",
    "X = 2 * np.random.rand(m, 1)\n",
    "y = (4 + 3 * X + np.random.randn(m, 1)).ravel()"
   ]
  },
  {
   "cell_type": "code",
   "execution_count": 21,
   "id": "8bc45e59-2dc4-4d6e-b885-56034e316a5c",
   "metadata": {},
   "outputs": [],
   "source": [
    "from sklearn.svm import LinearSVR"
   ]
  },
  {
   "cell_type": "code",
   "execution_count": 22,
   "id": "a5eccbe8-a644-42ea-b645-4b5ff63dc9ee",
   "metadata": {},
   "outputs": [
    {
     "data": {
      "text/plain": [
       "LinearSVR(epsilon=1.5, random_state=42)"
      ]
     },
     "execution_count": 22,
     "metadata": {},
     "output_type": "execute_result"
    }
   ],
   "source": [
    "svm_reg = LinearSVR(epsilon=1.5, random_state=42)\n",
    "svm_reg.fit(X, y)"
   ]
  },
  {
   "cell_type": "code",
   "execution_count": 23,
   "id": "46385a41-5d44-4ba9-bf69-9b814a92bff2",
   "metadata": {},
   "outputs": [],
   "source": [
    "from sklearn.metrics import r2_score"
   ]
  },
  {
   "cell_type": "code",
   "execution_count": 24,
   "id": "5b1a34ab-2e66-4838-ba9a-7636053eb13f",
   "metadata": {},
   "outputs": [],
   "source": [
    "y_pred = svm_reg.predict(X)"
   ]
  },
  {
   "cell_type": "code",
   "execution_count": 25,
   "id": "d280ff27-d27e-4215-b501-5f63ffefbaad",
   "metadata": {},
   "outputs": [],
   "source": [
    "r2_eval = r2_score(y, y_pred)"
   ]
  },
  {
   "cell_type": "code",
   "execution_count": 26,
   "id": "f61457c2-47d0-43c5-8e2d-8358e9629a25",
   "metadata": {},
   "outputs": [
    {
     "data": {
      "text/plain": [
       "0.7051280319442366"
      ]
     },
     "execution_count": 26,
     "metadata": {},
     "output_type": "execute_result"
    }
   ],
   "source": [
    "r2_eval"
   ]
  },
  {
   "cell_type": "markdown",
   "id": "5b88aba8-ea5c-41a5-ac1f-1c006ad8e1d2",
   "metadata": {},
   "source": [
    "#### Implementing SVM NonLinear regression using sk-learn's SVR class. Generating an example dataset for this task."
   ]
  },
  {
   "cell_type": "code",
   "execution_count": 27,
   "id": "66f6c5ae-85bb-4070-8c48-4a0e2506dada",
   "metadata": {},
   "outputs": [],
   "source": [
    "np.random.seed(42)\n",
    "m = 100\n",
    "X = 2 * np.random.rand(m, 1) - 1\n",
    "y = (0.2 + 0.1 * X + 0.5 * X**2 + np.random.randn(m, 1)/10).ravel()"
   ]
  },
  {
   "cell_type": "code",
   "execution_count": 28,
   "id": "f3f2aa2a-e251-4fea-808c-09c4cd88fdf3",
   "metadata": {},
   "outputs": [
    {
     "data": {
      "text/plain": [
       "SVR(C=100, degree=2, kernel='poly')"
      ]
     },
     "execution_count": 28,
     "metadata": {},
     "output_type": "execute_result"
    }
   ],
   "source": [
    "from sklearn.svm import SVR\n",
    "\n",
    "svm_poly_reg = SVR(kernel=\"poly\", degree=2, C=100, epsilon=0.1, gamma=\"scale\")\n",
    "svm_poly_reg.fit(X, y)"
   ]
  },
  {
   "cell_type": "code",
   "execution_count": 29,
   "id": "193aea54-674a-435a-accc-04811c7f0dc9",
   "metadata": {},
   "outputs": [],
   "source": [
    "from sklearn.metrics import mean_squared_error"
   ]
  },
  {
   "cell_type": "code",
   "execution_count": 30,
   "id": "e83b1c2e-6e56-44f8-afca-f97ade7e94df",
   "metadata": {},
   "outputs": [
    {
     "data": {
      "text/plain": [
       "11.97443986553631"
      ]
     },
     "execution_count": 30,
     "metadata": {},
     "output_type": "execute_result"
    }
   ],
   "source": [
    "y_pred = svm_reg.predict(X)\n",
    "mse_eval = mean_squared_error(y, y_pred)\n",
    "mse_eval"
   ]
  }
 ],
 "metadata": {
  "kernelspec": {
   "display_name": "Python 3 (ipykernel)",
   "language": "python",
   "name": "python3"
  },
  "language_info": {
   "codemirror_mode": {
    "name": "ipython",
    "version": 3
   },
   "file_extension": ".py",
   "mimetype": "text/x-python",
   "name": "python",
   "nbconvert_exporter": "python",
   "pygments_lexer": "ipython3",
   "version": "3.8.12"
  }
 },
 "nbformat": 4,
 "nbformat_minor": 5
}
