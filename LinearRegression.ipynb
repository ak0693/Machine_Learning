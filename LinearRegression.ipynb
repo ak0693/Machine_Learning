{
 "cells": [
  {
   "cell_type": "markdown",
   "id": "e8c92f75-d4f8-4b4b-bad1-c6348d46f037",
   "metadata": {
    "tags": []
   },
   "source": [
    "# Linear Regression"
   ]
  },
  {
   "cell_type": "markdown",
   "id": "401e0d92-3eb3-49eb-b45d-5cb979eb57ab",
   "metadata": {},
   "source": [
    "# Testing the normal equation\n",
    "## Synthesising a dataset and subsequently determing the parameters that fit the data."
   ]
  },
  {
   "cell_type": "code",
   "execution_count": 1,
   "id": "d456c14e-8766-4b49-9a4b-5aa578f81ec7",
   "metadata": {},
   "outputs": [],
   "source": [
    "import numpy as np"
   ]
  },
  {
   "cell_type": "code",
   "execution_count": 2,
   "id": "213d5f25-f24d-4a0f-9b98-04bbc452c850",
   "metadata": {},
   "outputs": [],
   "source": [
    "x = np.random.rand(100,1)\n",
    "y = 4 + 3*x + np.random.randn(100,1)"
   ]
  },
  {
   "cell_type": "code",
   "execution_count": 3,
   "id": "eb67f3c7-b089-4ade-94aa-abdd996d0102",
   "metadata": {},
   "outputs": [],
   "source": [
    "import seaborn as sns"
   ]
  },
  {
   "cell_type": "code",
   "execution_count": 4,
   "id": "9e708e26-4b6d-4881-a048-fd2653b285c3",
   "metadata": {},
   "outputs": [
    {
     "data": {
      "image/png": "[encoded data removed]",
      "text/plain": [
       "<Figure size 432x288 with 1 Axes>"
      ]
     },
     "metadata": {
      "needs_background": "light"
     },
     "output_type": "display_data"
    }
   ],
   "source": [
    "sns.regplot(x=x, y=y);"
   ]
  },
  {
   "cell_type": "markdown",
   "id": "328368fb-3668-4b21-8e31-531e299f739e",
   "metadata": {},
   "source": [
    "### Computing paramters using normal equation."
   ]
  },
  {
   "cell_type": "code",
   "execution_count": 5,
   "id": "8bbee3bf-7a86-4d13-86b2-fe112eae7e2b",
   "metadata": {},
   "outputs": [],
   "source": [
    "x_b = np.c_[np.ones((100,1)), x] # to add x0 as 1 for each instance"
   ]
  },
  {
   "cell_type": "code",
   "execution_count": 6,
   "id": "46a9ce0b-d1ba-4e28-9232-16bf3d548507",
   "metadata": {},
   "outputs": [],
   "source": [
    "theta_best = np.linalg.inv(x_b.T.dot(x_b)).dot(x_b.T).dot(y)"
   ]
  },
  {
   "cell_type": "code",
   "execution_count": 7,
   "id": "d06313a7-78be-4d1d-8e98-a106c258e842",
   "metadata": {},
   "outputs": [
    {
     "data": {
      "text/plain": [
       "array([[4.20988146],\n",
       "       [2.79559098]])"
      ]
     },
     "execution_count": 7,
     "metadata": {},
     "output_type": "execute_result"
    }
   ],
   "source": [
    "theta_best"
   ]
  },
  {
   "cell_type": "markdown",
   "id": "cadfb00b-95ad-4975-9c1f-ef46b2e117e5",
   "metadata": {},
   "source": [
    "### Computes the parameter values slightly off due to presence of noise (as opposed to 4 and 3 exact)"
   ]
  },
  {
   "cell_type": "markdown",
   "id": "d4b4e95a-91fc-481d-a3ac-b4440aa787b3",
   "metadata": {},
   "source": [
    "## Making predictions using these parameter values."
   ]
  },
  {
   "cell_type": "code",
   "execution_count": 8,
   "id": "fe3b8843-be10-4023-9566-0119bf36474e",
   "metadata": {},
   "outputs": [],
   "source": [
    "x_new = np.array([[0], [2]])\n",
    "x_new_b = np.c_[np.ones((2,1)), x_new]"
   ]
  },
  {
   "cell_type": "code",
   "execution_count": 9,
   "id": "8ffe4f2a-ca7f-4016-adbe-9769cd8b2eca",
   "metadata": {},
   "outputs": [],
   "source": [
    "y_predict = x_new_b.dot(theta_best)"
   ]
  },
  {
   "cell_type": "code",
   "execution_count": 10,
   "id": "7fc0a729-7b45-4d2c-8bf8-bcac1a333d09",
   "metadata": {},
   "outputs": [
    {
     "data": {
      "text/plain": [
       "array([[4.20988146],\n",
       "       [9.80106343]])"
      ]
     },
     "execution_count": 10,
     "metadata": {},
     "output_type": "execute_result"
    }
   ],
   "source": [
    "y_predict"
   ]
  },
  {
   "cell_type": "code",
   "execution_count": 11,
   "id": "05d74386-088e-4aa8-8d8d-8528c86a2023",
   "metadata": {},
   "outputs": [],
   "source": [
    "import matplotlib.pyplot as plt\n",
    "%matplotlib inline"
   ]
  },
  {
   "cell_type": "code",
   "execution_count": 12,
   "id": "974a8f8c-4b21-42a8-9674-ecc3a4a9ebe8",
   "metadata": {},
   "outputs": [
    {
     "data": {
      "image/png": "[encoded data removed]",
      "text/plain": [
       "<Figure size 432x288 with 1 Axes>"
      ]
     },
     "metadata": {
      "needs_background": "light"
     },
     "output_type": "display_data"
    }
   ],
   "source": [
    "plt.plot(x_new, y_predict, 'r-')\n",
    "plt.plot(x, y, 'b.')\n",
    "plt.axis([0, 2, 0, 15])\n",
    "plt.show()"
   ]
  },
  {
   "cell_type": "markdown",
   "id": "30bb2f87-7c5b-4f14-83ac-6a60ab755a33",
   "metadata": {},
   "source": [
    "## Computing parameters using sk-learns's LinearRegression module"
   ]
  },
  {
   "cell_type": "code",
   "execution_count": 13,
   "id": "ea4519e1-54b0-4d01-99d5-2f4593f9007d",
   "metadata": {},
   "outputs": [],
   "source": [
    "from sklearn.linear_model import LinearRegression"
   ]
  },
  {
   "cell_type": "code",
   "execution_count": 14,
   "id": "efe0e157-0bfd-452d-bf8c-abed58b8b651",
   "metadata": {},
   "outputs": [],
   "source": [
    "lin_reg = LinearRegression()"
   ]
  },
  {
   "cell_type": "code",
   "execution_count": 15,
   "id": "f31af577-1e5d-4d2b-90ae-11f0806372bd",
   "metadata": {},
   "outputs": [
    {
     "data": {
      "text/plain": [
       "(array([4.20988146]), array([[2.79559098]]))"
      ]
     },
     "execution_count": 15,
     "metadata": {},
     "output_type": "execute_result"
    }
   ],
   "source": [
    "lin_reg.fit(x, y)\n",
    "lin_reg.intercept_, lin_reg.coef_"
   ]
  },
  {
   "cell_type": "code",
   "execution_count": 16,
   "id": "0fdf54e7-d80f-44c5-8c57-9bc5d5c87a95",
   "metadata": {},
   "outputs": [
    {
     "data": {
      "text/plain": [
       "array([[4.20988146],\n",
       "       [9.80106343]])"
      ]
     },
     "execution_count": 16,
     "metadata": {},
     "output_type": "execute_result"
    }
   ],
   "source": [
    "lin_reg.predict(x_new)"
   ]
  },
  {
   "cell_type": "markdown",
   "id": "65335fcf-86ea-4a18-873f-d65ce903b683",
   "metadata": {},
   "source": [
    "## Implementing Gradient Descent Algorithm"
   ]
  },
  {
   "cell_type": "code",
   "execution_count": 17,
   "id": "00f6a60f-05c4-48f1-83d0-bd24ee164528",
   "metadata": {},
   "outputs": [],
   "source": [
    "eta = 0.1 # learning rate\n",
    "n_iterations = 1000\n",
    "m = 100\n",
    "theta = np.random.randn(2,1) # random initialization\n",
    "for iteration in range(n_iterations):\n",
    "    gradients = 2/m * x_b.T.dot(x_b.dot(theta) - y)\n",
    "    theta = theta - eta * gradients"
   ]
  },
  {
   "cell_type": "code",
   "execution_count": 18,
   "id": "adb7e790-6d61-49f4-8221-eaccb061ea27",
   "metadata": {},
   "outputs": [
    {
     "data": {
      "text/plain": [
       "array([[4.20988189],\n",
       "       [2.7955901 ]])"
      ]
     },
     "execution_count": 18,
     "metadata": {},
     "output_type": "execute_result"
    }
   ],
   "source": [
    "theta"
   ]
  },
  {
   "cell_type": "markdown",
   "id": "05394317-17d4-420f-829d-a264f2504993",
   "metadata": {},
   "source": [
    "## Implementing Schoatic Gradient Descent"
   ]
  },
  {
   "cell_type": "code",
   "execution_count": 19,
   "id": "583894c4-501e-4189-9cb6-e89887f4ee7e",
   "metadata": {},
   "outputs": [],
   "source": [
    "n_epochs = 50\n",
    "t0, t1 = 5, 50 # learning schedule hyperparameters\n",
    "\n",
    "def learning_schedule(t):\n",
    "    return t0 / (t + t1)\n",
    "\n",
    "theta = np.random.randn(2,1) # random initialization\n",
    "\n",
    "for epoch in range(n_epochs):\n",
    "    for i in range(m):\n",
    "        random_index = np.random.randint(m)\n",
    "        xi = x_b[random_index:random_index+1]\n",
    "        yi = y[random_index:random_index+1]\n",
    "        gradients = 2 * xi.T.dot(xi.dot(theta) - yi)\n",
    "        eta = learning_schedule(epoch * m + i)\n",
    "        theta = theta - eta * gradients"
   ]
  },
  {
   "cell_type": "code",
   "execution_count": 20,
   "id": "979c1ad2-a9e6-4be2-ad75-04881a798101",
   "metadata": {},
   "outputs": [
    {
     "data": {
      "text/plain": [
       "array([[4.20481872],\n",
       "       [2.79742759]])"
      ]
     },
     "execution_count": 20,
     "metadata": {},
     "output_type": "execute_result"
    }
   ],
   "source": [
    "theta"
   ]
  },
  {
   "cell_type": "markdown",
   "id": "92d9bc65-8a68-4ee7-9c5d-20a9d1eac4d7",
   "metadata": {
    "tags": []
   },
   "source": [
    "### Using SGD for linear regression using sk-learn"
   ]
  },
  {
   "cell_type": "code",
   "execution_count": 21,
   "id": "190f1b20-406e-4446-a719-5eee9cb39fd5",
   "metadata": {
    "tags": []
   },
   "outputs": [],
   "source": [
    "from sklearn.linear_model import SGDRegressor"
   ]
  },
  {
   "cell_type": "code",
   "execution_count": 22,
   "id": "179f74d1-e874-46b6-ad1d-08867b57004d",
   "metadata": {},
   "outputs": [
    {
     "data": {
      "text/plain": [
       "SGDRegressor(eta0=0.1, penalty=None)"
      ]
     },
     "execution_count": 22,
     "metadata": {},
     "output_type": "execute_result"
    }
   ],
   "source": [
    "sgd_reg = SGDRegressor(max_iter=1000, tol=1e-3, penalty=None, eta0=0.1)\n",
    "sgd_reg.fit(x, y.ravel())"
   ]
  },
  {
   "cell_type": "code",
   "execution_count": 23,
   "id": "a81c1d3b-3ad5-4659-afd2-fcbea8cdb9b4",
   "metadata": {},
   "outputs": [
    {
     "data": {
      "text/plain": [
       "(array([4.25742589]), array([2.61999665]))"
      ]
     },
     "execution_count": 23,
     "metadata": {},
     "output_type": "execute_result"
    }
   ],
   "source": [
    "sgd_reg.intercept_, sgd_reg.coef_"
   ]
  },
  {
   "cell_type": "markdown",
   "id": "7958f306-3de1-402f-963b-7ffb63617dc0",
   "metadata": {},
   "source": [
    "## Polynomial Regression\n",
    "### implementation"
   ]
  },
  {
   "cell_type": "code",
   "execution_count": 24,
   "id": "6bd25251-c668-480e-8c3d-6cab79290cc6",
   "metadata": {},
   "outputs": [],
   "source": [
    "import numpy as np\n",
    "m = 100\n",
    "X = 6 * np.random.rand(m, 1) - 3\n",
    "y = 0.5 * X**2 + X + 2 + np.random.randn(m, 1)"
   ]
  },
  {
   "cell_type": "code",
   "execution_count": 25,
   "id": "9779b735-2a74-4fc0-af4b-2664f64ce2e4",
   "metadata": {},
   "outputs": [],
   "source": [
    "import seaborn as sns"
   ]
  },
  {
   "cell_type": "code",
   "execution_count": 26,
   "id": "4f41c679-5768-44d5-b483-66af2cd06b4f",
   "metadata": {},
   "outputs": [],
   "source": [
    "import matplotlib.pyplot as plt\n",
    "%matplotlib inline"
   ]
  },
  {
   "cell_type": "code",
   "execution_count": 27,
   "id": "b57ccac3-39b4-44a3-968f-69e446ccc510",
   "metadata": {},
   "outputs": [
    {
     "data": {
      "text/plain": [
       "<matplotlib.collections.PathCollection at 0x1f971362cd0>"
      ]
     },
     "execution_count": 27,
     "metadata": {},
     "output_type": "execute_result"
    },
    {
     "data": {
      "image/png": "[encoded data removed]",
      "text/plain": [
       "<Figure size 432x288 with 1 Axes>"
      ]
     },
     "metadata": {
      "needs_background": "light"
     },
     "output_type": "display_data"
    }
   ],
   "source": [
    "plt.scatter(X, y)"
   ]
  },
  {
   "cell_type": "code",
   "execution_count": 28,
   "id": "4da56215-6bd6-4383-85a9-8440d933903a",
   "metadata": {},
   "outputs": [],
   "source": [
    "from sklearn.preprocessing import PolynomialFeatures"
   ]
  },
  {
   "cell_type": "code",
   "execution_count": 29,
   "id": "2bcf1245-5f64-4fb0-9ce0-deb50ebf9c2c",
   "metadata": {},
   "outputs": [],
   "source": [
    "poly_features = PolynomialFeatures(degree=2, include_bias=False)\n",
    "X_poly = poly_features.fit_transform(X)"
   ]
  },
  {
   "cell_type": "code",
   "execution_count": 30,
   "id": "25be36b7-cc69-42a7-8502-b94c2c3547d5",
   "metadata": {},
   "outputs": [
    {
     "data": {
      "text/plain": [
       "array([0.5006132])"
      ]
     },
     "execution_count": 30,
     "metadata": {},
     "output_type": "execute_result"
    }
   ],
   "source": [
    "X[0]"
   ]
  },
  {
   "cell_type": "code",
   "execution_count": 31,
   "id": "cda6a730-5791-4820-9a12-8ec635813413",
   "metadata": {},
   "outputs": [
    {
     "data": {
      "text/plain": [
       "array([0.5006132 , 0.25061358])"
      ]
     },
     "execution_count": 31,
     "metadata": {},
     "output_type": "execute_result"
    }
   ],
   "source": [
    "X_poly[0]"
   ]
  },
  {
   "cell_type": "code",
   "execution_count": 32,
   "id": "a18d4f57-686d-4651-aa46-c4f2c5833a21",
   "metadata": {},
   "outputs": [],
   "source": [
    "from sklearn.linear_model import LinearRegression\n",
    "lin_reg = LinearRegression()"
   ]
  },
  {
   "cell_type": "code",
   "execution_count": 33,
   "id": "0607f047-fe21-412d-b539-8b2917adfffa",
   "metadata": {},
   "outputs": [
    {
     "data": {
      "text/plain": [
       "LinearRegression()"
      ]
     },
     "execution_count": 33,
     "metadata": {},
     "output_type": "execute_result"
    }
   ],
   "source": [
    "lin_reg.fit(X_poly, y)"
   ]
  },
  {
   "cell_type": "code",
   "execution_count": 34,
   "id": "275f2109-747b-47bb-8a9e-baeb61676b73",
   "metadata": {},
   "outputs": [
    {
     "data": {
      "text/plain": [
       "(array([2.08202209]), array([[1.00612872, 0.47760125]]))"
      ]
     },
     "execution_count": 34,
     "metadata": {},
     "output_type": "execute_result"
    }
   ],
   "source": [
    "lin_reg.intercept_, lin_reg.coef_"
   ]
  },
  {
   "cell_type": "code",
   "execution_count": 35,
   "id": "4535560d-6a85-4831-9edd-c05ba77ca79e",
   "metadata": {},
   "outputs": [],
   "source": [
    "y_pred = lin_reg.predict(X_poly)"
   ]
  },
  {
   "cell_type": "code",
   "execution_count": 36,
   "id": "553b2d67-d758-43f4-936d-90361e6bc7bc",
   "metadata": {},
   "outputs": [
    {
     "data": {
      "image/png": "[encoded data removed]",
      "text/plain": [
       "<Figure size 432x288 with 1 Axes>"
      ]
     },
     "metadata": {
      "needs_background": "light"
     },
     "output_type": "display_data"
    }
   ],
   "source": [
    "X_new=np.linspace(-3, 3, 100).reshape(100, 1)\n",
    "X_new_poly = poly_features.transform(X_new)\n",
    "y_new = lin_reg.predict(X_new_poly)\n",
    "plt.plot(X, y, \"b.\")\n",
    "plt.plot(X_new, y_new, \"r-\", linewidth=2, label=\"Predictions\")\n",
    "plt.xlabel(\"$x_1$\", fontsize=18)\n",
    "plt.ylabel(\"$y$\", rotation=0, fontsize=18)\n",
    "plt.legend(loc=\"upper left\", fontsize=14)\n",
    "plt.axis([-3, 3, 0, 10])\n",
    "plt.show()"
   ]
  },
  {
   "cell_type": "markdown",
   "id": "42733561-fbf4-4579-8704-b1ee4ce809d2",
   "metadata": {},
   "source": [
    "## comparing linear model, quadratic model and a 300 degree model"
   ]
  },
  {
   "cell_type": "code",
   "execution_count": 37,
   "id": "3670a10e-5e55-40b3-97ca-9a005bfa6c81",
   "metadata": {},
   "outputs": [
    {
     "data": {
      "image/png": "[encoded data removed]",
      "text/plain": [
       "<Figure size 432x288 with 1 Axes>"
      ]
     },
     "metadata": {
      "needs_background": "light"
     },
     "output_type": "display_data"
    }
   ],
   "source": [
    "from sklearn.preprocessing import StandardScaler\n",
    "from sklearn.pipeline import Pipeline\n",
    "\n",
    "for style, width, degree in ((\"g-\", 1, 300), (\"b--\", 2, 2), (\"r-+\", 2, 1)):\n",
    "    polybig_features = PolynomialFeatures(degree=degree, include_bias=False)\n",
    "    std_scaler = StandardScaler()\n",
    "    lin_reg = LinearRegression()\n",
    "    polynomial_regression = Pipeline([\n",
    "            (\"poly_features\", polybig_features),\n",
    "            (\"std_scaler\", std_scaler),\n",
    "            (\"lin_reg\", lin_reg),\n",
    "        ])\n",
    "    polynomial_regression.fit(X, y)\n",
    "    y_newbig = polynomial_regression.predict(X_new)\n",
    "    plt.plot(X_new, y_newbig, style, label=str(degree), linewidth=width)\n",
    "\n",
    "plt.plot(X, y, \"b.\", linewidth=3)\n",
    "plt.legend(loc=\"upper left\")\n",
    "plt.xlabel(\"$x_1$\", fontsize=18)\n",
    "plt.ylabel(\"$y$\", rotation=0, fontsize=18)\n",
    "plt.axis([-3, 3, 0, 10])\n",
    "plt.show()"
   ]
  },
  {
   "cell_type": "markdown",
   "id": "eef29f0b-8934-4324-b766-e8a51383627e",
   "metadata": {},
   "source": [
    "Underfitting by the linear model and overfitting my the 300 degree model is clearnly observed"
   ]
  },
  {
   "cell_type": "markdown",
   "id": "c21518f3-957b-4a59-87a2-f4c0af5b0386",
   "metadata": {},
   "source": [
    "## Learning Curves"
   ]
  },
  {
   "cell_type": "code",
   "execution_count": 38,
   "id": "b8cbc23b-0125-424b-aa90-d62345ef7284",
   "metadata": {},
   "outputs": [],
   "source": [
    "from sklearn.metrics import mean_squared_error\n",
    "from sklearn.model_selection import train_test_split\n",
    "\n",
    "def plot_learning_curves(model, X, y):\n",
    "    X_train, X_val, y_train, y_val = train_test_split(X, y, test_size=0.2, random_state=10)\n",
    "    train_errors, val_errors = [], []\n",
    "    for m in range(1, len(X_train) + 1):\n",
    "        model.fit(X_train[:m], y_train[:m])\n",
    "        y_train_predict = model.predict(X_train[:m])\n",
    "        y_val_predict = model.predict(X_val)\n",
    "        train_errors.append(mean_squared_error(y_train[:m], y_train_predict))\n",
    "        val_errors.append(mean_squared_error(y_val, y_val_predict))\n",
    "\n",
    "    plt.plot(np.sqrt(train_errors), \"r-+\", linewidth=2, label=\"train\")\n",
    "    plt.plot(np.sqrt(val_errors), \"b-\", linewidth=3, label=\"val\")\n",
    "    plt.legend(loc=\"upper right\", fontsize=14)  \n",
    "    plt.xlabel(\"Training set size\", fontsize=14)\n",
    "    plt.ylabel(\"RMSE\", fontsize=14)              "
   ]
  },
  {
   "cell_type": "code",
   "execution_count": 39,
   "id": "6f4c3e2b-8412-42a4-bc0b-4ca67645d3f9",
   "metadata": {},
   "outputs": [
    {
     "data": {
      "image/png": "[encoded data removed]",
      "text/plain": [
       "<Figure size 432x288 with 1 Axes>"
      ]
     },
     "metadata": {
      "needs_background": "light"
     },
     "output_type": "display_data"
    }
   ],
   "source": [
    "lin_reg = LinearRegression()\n",
    "plot_learning_curves(lin_reg, X, y)\n",
    "plt.axis([0, 80, 0, 3])                         \n",
    "plt.show()                                     "
   ]
  },
  {
   "cell_type": "markdown",
   "id": "d619e956-8a92-45e5-90ac-8d2dbdf967e1",
   "metadata": {},
   "source": [
    "### Training set:\n",
    "#### when there are just one or two instances in the training set, the model can fit them perfectly, \n",
    "#### which is why the curve starts at zero. But as\n",
    "#### new instances are added to the training set, it becomes impossible for the model to fit\n",
    "#### the training data perfectly, both because the data is noisy and because it is not linear\n",
    "#### at all. So the error on the training data goes up until it reaches a plateau, at which\n",
    "#### point adding new instances to the training set doesn’t make the average error much\n",
    "#### better or worse.\n",
    "\n",
    "### Validation set\n",
    "#### When the model is trained on very few training instances, it is incapable of generalizing\n",
    "#### properly, which is why the validation error is initially quite big. Then, as the\n",
    "#### model is shown more training examples, it learns, and thus the validation error\n",
    "#### slowly goes down. However, once again a straight line cannot do a good job modeling\n",
    "#### the data, so the error ends up at a plateau, very close to the other curve."
   ]
  },
  {
   "cell_type": "markdown",
   "id": "051ff5aa-bd2e-4ce0-85d9-3eec7e20b064",
   "metadata": {},
   "source": [
    "### These learning curves are typical of a model that’s underfitting. Both curves have reached a plateau; they are close and fairly high."
   ]
  },
  {
   "cell_type": "code",
   "execution_count": 40,
   "id": "192b9af5-2de9-4057-a587-62ddbfa5307c",
   "metadata": {},
   "outputs": [
    {
     "data": {
      "image/png": "[encoded data removed]",
      "text/plain": [
       "<Figure size 432x288 with 1 Axes>"
      ]
     },
     "metadata": {
      "needs_background": "light"
     },
     "output_type": "display_data"
    }
   ],
   "source": [
    "## Learning curve for a 10th degree polynomial model.\n",
    "from sklearn.pipeline import Pipeline\n",
    "\n",
    "polynomial_regression = Pipeline([\n",
    "        (\"poly_features\", PolynomialFeatures(degree=10, include_bias=False)),\n",
    "        (\"lin_reg\", LinearRegression()),\n",
    "    ])\n",
    "\n",
    "plot_learning_curves(polynomial_regression, X, y)\n",
    "plt.axis([0, 80, 0, 3])          \n",
    "plt.show()                        "
   ]
  },
  {
   "cell_type": "markdown",
   "id": "94d98f82-92bd-4a3f-96bb-884546564e17",
   "metadata": {},
   "source": [
    "### Shows overfitting when the training instances are low. As the training instances increases, the model performance wrt overfitting improves."
   ]
  },
  {
   "cell_type": "markdown",
   "id": "03d447e6-d19c-412f-b3aa-5c93b0319436",
   "metadata": {},
   "source": [
    "## Regularisation"
   ]
  },
  {
   "cell_type": "markdown",
   "id": "eb295673-04c2-4471-9b0c-81ae040c1ce1",
   "metadata": {},
   "source": [
    "## Ridge Regression\n",
    "### Implementation in sk-learn"
   ]
  },
  {
   "cell_type": "code",
   "execution_count": 41,
   "id": "5a329b4d-e130-4ce2-be16-8df20424e5d0",
   "metadata": {},
   "outputs": [],
   "source": [
    "from sklearn.linear_model import Ridge\n",
    "ridge_reg = Ridge(alpha=1, solver=\"cholesky\")"
   ]
  },
  {
   "cell_type": "code",
   "execution_count": 42,
   "id": "c2b5fed5-8ada-4654-a384-a14f48baa28e",
   "metadata": {},
   "outputs": [
    {
     "data": {
      "text/plain": [
       "Ridge(alpha=1, solver='cholesky')"
      ]
     },
     "execution_count": 42,
     "metadata": {},
     "output_type": "execute_result"
    }
   ],
   "source": [
    "ridge_reg.fit(X, y)"
   ]
  },
  {
   "cell_type": "code",
   "execution_count": 43,
   "id": "6d8568e5-3257-4770-b296-43c22871498d",
   "metadata": {},
   "outputs": [
    {
     "data": {
      "text/plain": [
       "array([[4.90873824]])"
      ]
     },
     "execution_count": 43,
     "metadata": {},
     "output_type": "execute_result"
    }
   ],
   "source": [
    "ridge_reg.predict([[1.5]])"
   ]
  },
  {
   "cell_type": "markdown",
   "id": "4edaf181-bd3e-44e5-9d89-532f76ae9b5f",
   "metadata": {},
   "source": [
    "### using SGD"
   ]
  },
  {
   "cell_type": "code",
   "execution_count": 44,
   "id": "e6841db0-1759-44ed-95ec-9685ca7c134f",
   "metadata": {},
   "outputs": [],
   "source": [
    "from sklearn.linear_model import SGDRegressor\n",
    "sgd_reg = SGDRegressor(penalty=\"l2\")"
   ]
  },
  {
   "cell_type": "code",
   "execution_count": 45,
   "id": "c7fe975e-d021-4857-abe5-215637b8f94a",
   "metadata": {},
   "outputs": [
    {
     "data": {
      "text/plain": [
       "SGDRegressor()"
      ]
     },
     "execution_count": 45,
     "metadata": {},
     "output_type": "execute_result"
    }
   ],
   "source": [
    "sgd_reg.fit(X, y.ravel())"
   ]
  },
  {
   "cell_type": "code",
   "execution_count": 46,
   "id": "0c53ecb0-4e0d-44ac-a3fc-5f118f954118",
   "metadata": {},
   "outputs": [
    {
     "data": {
      "text/plain": [
       "array([4.90273322])"
      ]
     },
     "execution_count": 46,
     "metadata": {},
     "output_type": "execute_result"
    }
   ],
   "source": [
    "sgd_reg.predict([[1.5]])"
   ]
  },
  {
   "cell_type": "markdown",
   "id": "5028190a-2da2-43db-8837-a98f50ed236c",
   "metadata": {},
   "source": [
    "## Lasso Regression\n",
    "\n",
    "### Implementing using sk-learn."
   ]
  },
  {
   "cell_type": "code",
   "execution_count": 47,
   "id": "789025fc-ffd3-44c0-9acb-72faa156c74f",
   "metadata": {},
   "outputs": [],
   "source": [
    "from sklearn.linear_model import Lasso\n",
    "lasso_reg = Lasso(alpha=0.1)"
   ]
  },
  {
   "cell_type": "code",
   "execution_count": 48,
   "id": "10f9f8a4-2f4e-477b-b415-321297cfad07",
   "metadata": {},
   "outputs": [
    {
     "data": {
      "text/plain": [
       "Lasso(alpha=0.1)"
      ]
     },
     "execution_count": 48,
     "metadata": {},
     "output_type": "execute_result"
    }
   ],
   "source": [
    "lasso_reg.fit(X, y)"
   ]
  },
  {
   "cell_type": "code",
   "execution_count": 49,
   "id": "2860eefe-5271-4eab-9c5e-9ebf5a8d9583",
   "metadata": {},
   "outputs": [
    {
     "data": {
      "text/plain": [
       "array([4.86137658])"
      ]
     },
     "execution_count": 49,
     "metadata": {},
     "output_type": "execute_result"
    }
   ],
   "source": [
    "lasso_reg.predict([[1.5]])"
   ]
  },
  {
   "cell_type": "markdown",
   "id": "8c8317f5-6965-47b7-86da-0a7af7f0c3bc",
   "metadata": {},
   "source": [
    "### implementation using SGD"
   ]
  },
  {
   "cell_type": "code",
   "execution_count": 50,
   "id": "b700ea95-5bb7-4111-85f4-a843d19127a4",
   "metadata": {},
   "outputs": [
    {
     "data": {
      "text/plain": [
       "array([4.8941544])"
      ]
     },
     "execution_count": 50,
     "metadata": {},
     "output_type": "execute_result"
    }
   ],
   "source": [
    "sgd_lasso = SGDRegressor(penalty=\"l1\")\n",
    "sgd_lasso.fit(X, y.ravel())\n",
    "sgd_lasso.predict([[1.5]])"
   ]
  },
  {
   "cell_type": "markdown",
   "id": "453335af-6d3f-44c7-aecf-c64d7db60605",
   "metadata": {},
   "source": [
    "## Elastic Net\n",
    "\n",
    "### implementation using sk-learn"
   ]
  },
  {
   "cell_type": "code",
   "execution_count": 51,
   "id": "7adf2f25-44ca-4589-86cf-8d1262893f08",
   "metadata": {},
   "outputs": [],
   "source": [
    "from sklearn.linear_model import ElasticNet"
   ]
  },
  {
   "cell_type": "code",
   "execution_count": 52,
   "id": "5c3ea555-c0a2-4b73-a26a-76f7b32fde99",
   "metadata": {},
   "outputs": [
    {
     "data": {
      "text/plain": [
       "array([4.86226278])"
      ]
     },
     "execution_count": 52,
     "metadata": {},
     "output_type": "execute_result"
    }
   ],
   "source": [
    "elastic_net = ElasticNet(alpha=0.1, l1_ratio=0.5)\n",
    "elastic_net.fit(X, y)\n",
    "elastic_net.predict([[1.5]])"
   ]
  },
  {
   "cell_type": "code",
   "execution_count": null,
   "id": "a51f3b22-e2e7-4b36-9694-073052986836",
   "metadata": {},
   "outputs": [],
   "source": []
  }
 ],
 "metadata": {
  "kernelspec": {
   "display_name": "Python 3 (ipykernel)",
   "language": "python",
   "name": "python3"
  },
  "language_info": {
   "codemirror_mode": {
    "name": "ipython",
    "version": 3
   },
   "file_extension": ".py",
   "mimetype": "text/x-python",
   "name": "python",
   "nbconvert_exporter": "python",
   "pygments_lexer": "ipython3",
   "version": "3.8.12"
  }
 },
 "nbformat": 4,
 "nbformat_minor": 5
}
